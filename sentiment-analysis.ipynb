{
 "cells": [
  {
   "cell_type": "code",
   "execution_count": 21,
   "metadata": {},
   "outputs": [],
   "source": [
    "import pandas as pd\n",
    "import numpy as np"
   ]
  },
  {
   "cell_type": "code",
   "execution_count": 22,
   "metadata": {},
   "outputs": [],
   "source": [
    "reviews = pd.read_csv(\"fr_reviews.csv\")"
   ]
  },
  {
   "cell_type": "code",
   "execution_count": 23,
   "metadata": {},
   "outputs": [
    {
     "data": {
      "text/html": [
       "<div>\n",
       "<style scoped>\n",
       "    .dataframe tbody tr th:only-of-type {\n",
       "        vertical-align: middle;\n",
       "    }\n",
       "\n",
       "    .dataframe tbody tr th {\n",
       "        vertical-align: top;\n",
       "    }\n",
       "\n",
       "    .dataframe thead th {\n",
       "        text-align: right;\n",
       "    }\n",
       "</style>\n",
       "<table border=\"1\" class=\"dataframe\">\n",
       "  <thead>\n",
       "    <tr style=\"text-align: right;\">\n",
       "      <th></th>\n",
       "      <th>Unnamed: 0</th>\n",
       "      <th>text</th>\n",
       "      <th>sentiment</th>\n",
       "    </tr>\n",
       "  </thead>\n",
       "  <tbody>\n",
       "    <tr>\n",
       "      <th>0</th>\n",
       "      <td>0</td>\n",
       "      <td>Éoliennes Belle-Rivière: fin de la période d'i...</td>\n",
       "      <td>=</td>\n",
       "    </tr>\n",
       "    <tr>\n",
       "      <th>1</th>\n",
       "      <td>1</td>\n",
       "      <td>La stratégie nationale de gestion des risques ...</td>\n",
       "      <td>+</td>\n",
       "    </tr>\n",
       "    <tr>\n",
       "      <th>2</th>\n",
       "      <td>2</td>\n",
       "      <td>“Nous cherchons à changer l’économie mondiale ...</td>\n",
       "      <td>=</td>\n",
       "    </tr>\n",
       "    <tr>\n",
       "      <th>3</th>\n",
       "      <td>3</td>\n",
       "      <td>\"La technologie, clé contre le changement clim...</td>\n",
       "      <td>+</td>\n",
       "    </tr>\n",
       "    <tr>\n",
       "      <th>4</th>\n",
       "      <td>4</td>\n",
       "      <td>@JMoncomble Probablement une histoire de dével...</td>\n",
       "      <td>-</td>\n",
       "    </tr>\n",
       "    <tr>\n",
       "      <th>...</th>\n",
       "      <td>...</td>\n",
       "      <td>...</td>\n",
       "      <td>...</td>\n",
       "    </tr>\n",
       "    <tr>\n",
       "      <th>262414</th>\n",
       "      <td>259035</td>\n",
       "      <td>Les quelques recettes de base sont bien expliq...</td>\n",
       "      <td>=</td>\n",
       "    </tr>\n",
       "    <tr>\n",
       "      <th>262415</th>\n",
       "      <td>259036</td>\n",
       "      <td>Ma fille a command&amp;eacute; ce livre apr&amp;egrave...</td>\n",
       "      <td>+</td>\n",
       "    </tr>\n",
       "    <tr>\n",
       "      <th>262416</th>\n",
       "      <td>259037</td>\n",
       "      <td>Bill and Melinda recommended this book to me a...</td>\n",
       "      <td>+</td>\n",
       "    </tr>\n",
       "    <tr>\n",
       "      <th>262417</th>\n",
       "      <td>259038</td>\n",
       "      <td>Un classique a avoir dans sa bibliotheque. Tou...</td>\n",
       "      <td>+</td>\n",
       "    </tr>\n",
       "    <tr>\n",
       "      <th>262418</th>\n",
       "      <td>259039</td>\n",
       "      <td>J'avais déjà en poche mais c'est plus pratique...</td>\n",
       "      <td>+</td>\n",
       "    </tr>\n",
       "  </tbody>\n",
       "</table>\n",
       "<p>262419 rows × 3 columns</p>\n",
       "</div>"
      ],
      "text/plain": [
       "        Unnamed: 0                                               text  \\\n",
       "0                0  Éoliennes Belle-Rivière: fin de la période d'i...   \n",
       "1                1  La stratégie nationale de gestion des risques ...   \n",
       "2                2  “Nous cherchons à changer l’économie mondiale ...   \n",
       "3                3  \"La technologie, clé contre le changement clim...   \n",
       "4                4  @JMoncomble Probablement une histoire de dével...   \n",
       "...            ...                                                ...   \n",
       "262414      259035  Les quelques recettes de base sont bien expliq...   \n",
       "262415      259036  Ma fille a command&eacute; ce livre apr&egrave...   \n",
       "262416      259037  Bill and Melinda recommended this book to me a...   \n",
       "262417      259038  Un classique a avoir dans sa bibliotheque. Tou...   \n",
       "262418      259039  J'avais déjà en poche mais c'est plus pratique...   \n",
       "\n",
       "       sentiment  \n",
       "0              =  \n",
       "1              +  \n",
       "2              =  \n",
       "3              +  \n",
       "4              -  \n",
       "...          ...  \n",
       "262414         =  \n",
       "262415         +  \n",
       "262416         +  \n",
       "262417         +  \n",
       "262418         +  \n",
       "\n",
       "[262419 rows x 3 columns]"
      ]
     },
     "execution_count": 23,
     "metadata": {},
     "output_type": "execute_result"
    }
   ],
   "source": [
    "reviews"
   ]
  },
  {
   "cell_type": "code",
   "execution_count": 24,
   "metadata": {},
   "outputs": [],
   "source": [
    "reviews = reviews[:50000].copy()"
   ]
  },
  {
   "cell_type": "code",
   "execution_count": 25,
   "metadata": {},
   "outputs": [
    {
     "data": {
      "text/html": [
       "<div>\n",
       "<style scoped>\n",
       "    .dataframe tbody tr th:only-of-type {\n",
       "        vertical-align: middle;\n",
       "    }\n",
       "\n",
       "    .dataframe tbody tr th {\n",
       "        vertical-align: top;\n",
       "    }\n",
       "\n",
       "    .dataframe thead th {\n",
       "        text-align: right;\n",
       "    }\n",
       "</style>\n",
       "<table border=\"1\" class=\"dataframe\">\n",
       "  <thead>\n",
       "    <tr style=\"text-align: right;\">\n",
       "      <th></th>\n",
       "      <th>Unnamed: 0</th>\n",
       "      <th>text</th>\n",
       "      <th>sentiment</th>\n",
       "    </tr>\n",
       "  </thead>\n",
       "  <tbody>\n",
       "    <tr>\n",
       "      <th>0</th>\n",
       "      <td>0</td>\n",
       "      <td>Éoliennes Belle-Rivière: fin de la période d'i...</td>\n",
       "      <td>=</td>\n",
       "    </tr>\n",
       "    <tr>\n",
       "      <th>1</th>\n",
       "      <td>1</td>\n",
       "      <td>La stratégie nationale de gestion des risques ...</td>\n",
       "      <td>+</td>\n",
       "    </tr>\n",
       "    <tr>\n",
       "      <th>2</th>\n",
       "      <td>2</td>\n",
       "      <td>“Nous cherchons à changer l’économie mondiale ...</td>\n",
       "      <td>=</td>\n",
       "    </tr>\n",
       "    <tr>\n",
       "      <th>3</th>\n",
       "      <td>3</td>\n",
       "      <td>\"La technologie, clé contre le changement clim...</td>\n",
       "      <td>+</td>\n",
       "    </tr>\n",
       "    <tr>\n",
       "      <th>4</th>\n",
       "      <td>4</td>\n",
       "      <td>@JMoncomble Probablement une histoire de dével...</td>\n",
       "      <td>-</td>\n",
       "    </tr>\n",
       "    <tr>\n",
       "      <th>...</th>\n",
       "      <td>...</td>\n",
       "      <td>...</td>\n",
       "      <td>...</td>\n",
       "    </tr>\n",
       "    <tr>\n",
       "      <th>49995</th>\n",
       "      <td>46616</td>\n",
       "      <td>un enregistrement DECCA d'une grande qualité ,...</td>\n",
       "      <td>+</td>\n",
       "    </tr>\n",
       "    <tr>\n",
       "      <th>49996</th>\n",
       "      <td>46617</td>\n",
       "      <td>Haletant, déroutant, ce film historique est à ...</td>\n",
       "      <td>+</td>\n",
       "    </tr>\n",
       "    <tr>\n",
       "      <th>49997</th>\n",
       "      <td>46618</td>\n",
       "      <td>Une BO de bonne facture mais clairement sur&amp;ea...</td>\n",
       "      <td>=</td>\n",
       "    </tr>\n",
       "    <tr>\n",
       "      <th>49998</th>\n",
       "      <td>46619</td>\n",
       "      <td>Krakauer mène un excellent travail d'investiga...</td>\n",
       "      <td>+</td>\n",
       "    </tr>\n",
       "    <tr>\n",
       "      <th>49999</th>\n",
       "      <td>46620</td>\n",
       "      <td>2 voix talentueuse , Cher , Aguilera sur un mê...</td>\n",
       "      <td>+</td>\n",
       "    </tr>\n",
       "  </tbody>\n",
       "</table>\n",
       "<p>50000 rows × 3 columns</p>\n",
       "</div>"
      ],
      "text/plain": [
       "       Unnamed: 0                                               text sentiment\n",
       "0               0  Éoliennes Belle-Rivière: fin de la période d'i...         =\n",
       "1               1  La stratégie nationale de gestion des risques ...         +\n",
       "2               2  “Nous cherchons à changer l’économie mondiale ...         =\n",
       "3               3  \"La technologie, clé contre le changement clim...         +\n",
       "4               4  @JMoncomble Probablement une histoire de dével...         -\n",
       "...           ...                                                ...       ...\n",
       "49995       46616  un enregistrement DECCA d'une grande qualité ,...         +\n",
       "49996       46617  Haletant, déroutant, ce film historique est à ...         +\n",
       "49997       46618  Une BO de bonne facture mais clairement sur&ea...         =\n",
       "49998       46619  Krakauer mène un excellent travail d'investiga...         +\n",
       "49999       46620  2 voix talentueuse , Cher , Aguilera sur un mê...         +\n",
       "\n",
       "[50000 rows x 3 columns]"
      ]
     },
     "execution_count": 25,
     "metadata": {},
     "output_type": "execute_result"
    }
   ],
   "source": [
    "reviews"
   ]
  },
  {
   "cell_type": "code",
   "execution_count": 26,
   "metadata": {},
   "outputs": [],
   "source": [
    "reviews.drop(labels=['Unnamed: 0'], axis=1,inplace=True)"
   ]
  },
  {
   "cell_type": "code",
   "execution_count": 27,
   "metadata": {},
   "outputs": [
    {
     "data": {
      "text/html": [
       "<div>\n",
       "<style scoped>\n",
       "    .dataframe tbody tr th:only-of-type {\n",
       "        vertical-align: middle;\n",
       "    }\n",
       "\n",
       "    .dataframe tbody tr th {\n",
       "        vertical-align: top;\n",
       "    }\n",
       "\n",
       "    .dataframe thead th {\n",
       "        text-align: right;\n",
       "    }\n",
       "</style>\n",
       "<table border=\"1\" class=\"dataframe\">\n",
       "  <thead>\n",
       "    <tr style=\"text-align: right;\">\n",
       "      <th></th>\n",
       "      <th>text</th>\n",
       "      <th>sentiment</th>\n",
       "    </tr>\n",
       "  </thead>\n",
       "  <tbody>\n",
       "    <tr>\n",
       "      <th>0</th>\n",
       "      <td>Éoliennes Belle-Rivière: fin de la période d'i...</td>\n",
       "      <td>=</td>\n",
       "    </tr>\n",
       "    <tr>\n",
       "      <th>1</th>\n",
       "      <td>La stratégie nationale de gestion des risques ...</td>\n",
       "      <td>+</td>\n",
       "    </tr>\n",
       "    <tr>\n",
       "      <th>2</th>\n",
       "      <td>“Nous cherchons à changer l’économie mondiale ...</td>\n",
       "      <td>=</td>\n",
       "    </tr>\n",
       "    <tr>\n",
       "      <th>3</th>\n",
       "      <td>\"La technologie, clé contre le changement clim...</td>\n",
       "      <td>+</td>\n",
       "    </tr>\n",
       "    <tr>\n",
       "      <th>4</th>\n",
       "      <td>@JMoncomble Probablement une histoire de dével...</td>\n",
       "      <td>-</td>\n",
       "    </tr>\n",
       "    <tr>\n",
       "      <th>...</th>\n",
       "      <td>...</td>\n",
       "      <td>...</td>\n",
       "    </tr>\n",
       "    <tr>\n",
       "      <th>49995</th>\n",
       "      <td>un enregistrement DECCA d'une grande qualité ,...</td>\n",
       "      <td>+</td>\n",
       "    </tr>\n",
       "    <tr>\n",
       "      <th>49996</th>\n",
       "      <td>Haletant, déroutant, ce film historique est à ...</td>\n",
       "      <td>+</td>\n",
       "    </tr>\n",
       "    <tr>\n",
       "      <th>49997</th>\n",
       "      <td>Une BO de bonne facture mais clairement sur&amp;ea...</td>\n",
       "      <td>=</td>\n",
       "    </tr>\n",
       "    <tr>\n",
       "      <th>49998</th>\n",
       "      <td>Krakauer mène un excellent travail d'investiga...</td>\n",
       "      <td>+</td>\n",
       "    </tr>\n",
       "    <tr>\n",
       "      <th>49999</th>\n",
       "      <td>2 voix talentueuse , Cher , Aguilera sur un mê...</td>\n",
       "      <td>+</td>\n",
       "    </tr>\n",
       "  </tbody>\n",
       "</table>\n",
       "<p>50000 rows × 2 columns</p>\n",
       "</div>"
      ],
      "text/plain": [
       "                                                    text sentiment\n",
       "0      Éoliennes Belle-Rivière: fin de la période d'i...         =\n",
       "1      La stratégie nationale de gestion des risques ...         +\n",
       "2      “Nous cherchons à changer l’économie mondiale ...         =\n",
       "3      \"La technologie, clé contre le changement clim...         +\n",
       "4      @JMoncomble Probablement une histoire de dével...         -\n",
       "...                                                  ...       ...\n",
       "49995  un enregistrement DECCA d'une grande qualité ,...         +\n",
       "49996  Haletant, déroutant, ce film historique est à ...         +\n",
       "49997  Une BO de bonne facture mais clairement sur&ea...         =\n",
       "49998  Krakauer mène un excellent travail d'investiga...         +\n",
       "49999  2 voix talentueuse , Cher , Aguilera sur un mê...         +\n",
       "\n",
       "[50000 rows x 2 columns]"
      ]
     },
     "execution_count": 27,
     "metadata": {},
     "output_type": "execute_result"
    }
   ],
   "source": [
    "reviews"
   ]
  },
  {
   "cell_type": "code",
   "execution_count": 28,
   "metadata": {},
   "outputs": [],
   "source": [
    "from sklearn.preprocessing import LabelEncoder"
   ]
  },
  {
   "cell_type": "code",
   "execution_count": 29,
   "metadata": {},
   "outputs": [],
   "source": [
    "le = LabelEncoder()\n",
    "le.fit(reviews[\"sentiment\"])\n",
    "reviews[\"encoded_target\"] = le.transform(reviews[\"sentiment\"])"
   ]
  },
  {
   "cell_type": "code",
   "execution_count": 30,
   "metadata": {},
   "outputs": [
    {
     "data": {
      "text/html": [
       "<div>\n",
       "<style scoped>\n",
       "    .dataframe tbody tr th:only-of-type {\n",
       "        vertical-align: middle;\n",
       "    }\n",
       "\n",
       "    .dataframe tbody tr th {\n",
       "        vertical-align: top;\n",
       "    }\n",
       "\n",
       "    .dataframe thead th {\n",
       "        text-align: right;\n",
       "    }\n",
       "</style>\n",
       "<table border=\"1\" class=\"dataframe\">\n",
       "  <thead>\n",
       "    <tr style=\"text-align: right;\">\n",
       "      <th></th>\n",
       "      <th>text</th>\n",
       "      <th>sentiment</th>\n",
       "      <th>encoded_target</th>\n",
       "    </tr>\n",
       "  </thead>\n",
       "  <tbody>\n",
       "    <tr>\n",
       "      <th>0</th>\n",
       "      <td>Éoliennes Belle-Rivière: fin de la période d'i...</td>\n",
       "      <td>=</td>\n",
       "      <td>2</td>\n",
       "    </tr>\n",
       "    <tr>\n",
       "      <th>1</th>\n",
       "      <td>La stratégie nationale de gestion des risques ...</td>\n",
       "      <td>+</td>\n",
       "      <td>0</td>\n",
       "    </tr>\n",
       "    <tr>\n",
       "      <th>2</th>\n",
       "      <td>“Nous cherchons à changer l’économie mondiale ...</td>\n",
       "      <td>=</td>\n",
       "      <td>2</td>\n",
       "    </tr>\n",
       "    <tr>\n",
       "      <th>3</th>\n",
       "      <td>\"La technologie, clé contre le changement clim...</td>\n",
       "      <td>+</td>\n",
       "      <td>0</td>\n",
       "    </tr>\n",
       "    <tr>\n",
       "      <th>4</th>\n",
       "      <td>@JMoncomble Probablement une histoire de dével...</td>\n",
       "      <td>-</td>\n",
       "      <td>1</td>\n",
       "    </tr>\n",
       "    <tr>\n",
       "      <th>...</th>\n",
       "      <td>...</td>\n",
       "      <td>...</td>\n",
       "      <td>...</td>\n",
       "    </tr>\n",
       "    <tr>\n",
       "      <th>49995</th>\n",
       "      <td>un enregistrement DECCA d'une grande qualité ,...</td>\n",
       "      <td>+</td>\n",
       "      <td>0</td>\n",
       "    </tr>\n",
       "    <tr>\n",
       "      <th>49996</th>\n",
       "      <td>Haletant, déroutant, ce film historique est à ...</td>\n",
       "      <td>+</td>\n",
       "      <td>0</td>\n",
       "    </tr>\n",
       "    <tr>\n",
       "      <th>49997</th>\n",
       "      <td>Une BO de bonne facture mais clairement sur&amp;ea...</td>\n",
       "      <td>=</td>\n",
       "      <td>2</td>\n",
       "    </tr>\n",
       "    <tr>\n",
       "      <th>49998</th>\n",
       "      <td>Krakauer mène un excellent travail d'investiga...</td>\n",
       "      <td>+</td>\n",
       "      <td>0</td>\n",
       "    </tr>\n",
       "    <tr>\n",
       "      <th>49999</th>\n",
       "      <td>2 voix talentueuse , Cher , Aguilera sur un mê...</td>\n",
       "      <td>+</td>\n",
       "      <td>0</td>\n",
       "    </tr>\n",
       "  </tbody>\n",
       "</table>\n",
       "<p>50000 rows × 3 columns</p>\n",
       "</div>"
      ],
      "text/plain": [
       "                                                    text sentiment  \\\n",
       "0      Éoliennes Belle-Rivière: fin de la période d'i...         =   \n",
       "1      La stratégie nationale de gestion des risques ...         +   \n",
       "2      “Nous cherchons à changer l’économie mondiale ...         =   \n",
       "3      \"La technologie, clé contre le changement clim...         +   \n",
       "4      @JMoncomble Probablement une histoire de dével...         -   \n",
       "...                                                  ...       ...   \n",
       "49995  un enregistrement DECCA d'une grande qualité ,...         +   \n",
       "49996  Haletant, déroutant, ce film historique est à ...         +   \n",
       "49997  Une BO de bonne facture mais clairement sur&ea...         =   \n",
       "49998  Krakauer mène un excellent travail d'investiga...         +   \n",
       "49999  2 voix talentueuse , Cher , Aguilera sur un mê...         +   \n",
       "\n",
       "       encoded_target  \n",
       "0                   2  \n",
       "1                   0  \n",
       "2                   2  \n",
       "3                   0  \n",
       "4                   1  \n",
       "...               ...  \n",
       "49995               0  \n",
       "49996               0  \n",
       "49997               2  \n",
       "49998               0  \n",
       "49999               0  \n",
       "\n",
       "[50000 rows x 3 columns]"
      ]
     },
     "execution_count": 30,
     "metadata": {},
     "output_type": "execute_result"
    }
   ],
   "source": [
    "reviews"
   ]
  },
  {
   "cell_type": "code",
   "execution_count": 31,
   "metadata": {},
   "outputs": [],
   "source": [
    "from sklearn.multiclass import OneVsRestClassifier\n",
    "from sklearn.naive_bayes import MultinomialNB\n",
    "from sklearn.feature_extraction.text import TfidfVectorizer"
   ]
  },
  {
   "cell_type": "code",
   "execution_count": 32,
   "metadata": {},
   "outputs": [],
   "source": [
    "def get_vectorized_text():\n",
    "  vectorizer = TfidfVectorizer()\n",
    "  X = vectorizer.fit_transform(reviews[\"text\"])\n",
    "  return X"
   ]
  },
  {
   "cell_type": "code",
   "execution_count": 33,
   "metadata": {},
   "outputs": [],
   "source": [
    "X = get_vectorized_text()"
   ]
  },
  {
   "cell_type": "code",
   "execution_count": 34,
   "metadata": {},
   "outputs": [],
   "source": [
    "from sklearn.model_selection import train_test_split  "
   ]
  },
  {
   "cell_type": "code",
   "execution_count": 35,
   "metadata": {},
   "outputs": [],
   "source": [
    "X_train, X_test, y_train, y_test = train_test_split(X,reviews[\"encoded_target\"], test_size=.2, random_state=42,shuffle=True)"
   ]
  },
  {
   "cell_type": "code",
   "execution_count": 36,
   "metadata": {},
   "outputs": [
    {
     "data": {
      "text/plain": [
       "((40000, 91571), (40000,))"
      ]
     },
     "execution_count": 36,
     "metadata": {},
     "output_type": "execute_result"
    }
   ],
   "source": [
    "X_train.shape,y_train.shape"
   ]
  },
  {
   "cell_type": "code",
   "execution_count": 37,
   "metadata": {},
   "outputs": [],
   "source": [
    "x_train_chunks = [X_train[i:i+16000] for i in range(0, X_train.shape[0], 16000) ]\n",
    "y_train_chunks = [y_train[i:i+16000] for i in range(0, y_train.shape[0], 16000) ]"
   ]
  },
  {
   "cell_type": "code",
   "execution_count": 38,
   "metadata": {},
   "outputs": [
    {
     "data": {
      "text/plain": [
       "[<16000x91571 sparse matrix of type '<class 'numpy.float64'>'\n",
       " \twith 692718 stored elements in Compressed Sparse Row format>,\n",
       " <16000x91571 sparse matrix of type '<class 'numpy.float64'>'\n",
       " \twith 686351 stored elements in Compressed Sparse Row format>,\n",
       " <8000x91571 sparse matrix of type '<class 'numpy.float64'>'\n",
       " \twith 336697 stored elements in Compressed Sparse Row format>]"
      ]
     },
     "execution_count": 38,
     "metadata": {},
     "output_type": "execute_result"
    }
   ],
   "source": [
    "x_train_chunks"
   ]
  },
  {
   "cell_type": "code",
   "execution_count": 39,
   "metadata": {},
   "outputs": [],
   "source": [
    "clf = OneVsRestClassifier(MultinomialNB())"
   ]
  },
  {
   "cell_type": "code",
   "execution_count": 40,
   "metadata": {},
   "outputs": [],
   "source": [
    "for i,j in zip(x_train_chunks,y_train_chunks):\n",
    "    clf.partial_fit(i.toarray(),j, classes = np.unique(y_train))"
   ]
  },
  {
   "cell_type": "code",
   "execution_count": 50,
   "metadata": {},
   "outputs": [
    {
     "data": {
      "text/plain": [
       "0.8006"
      ]
     },
     "execution_count": 50,
     "metadata": {},
     "output_type": "execute_result"
    }
   ],
   "source": [
    "clf.score(X_test,y_test)"
   ]
  },
  {
   "cell_type": "code",
   "execution_count": 51,
   "metadata": {},
   "outputs": [],
   "source": [
    "import pickle"
   ]
  },
  {
   "cell_type": "code",
   "execution_count": 52,
   "metadata": {},
   "outputs": [],
   "source": [
    "pickle.dump(clf,open(\"sentiment_model.h5\",\"wb\"))"
   ]
  },
  {
   "cell_type": "code",
   "execution_count": 53,
   "metadata": {},
   "outputs": [],
   "source": [
    "model = pickle.load(open(\"sentiment_model.h5\",\"rb\"))"
   ]
  },
  {
   "cell_type": "code",
   "execution_count": null,
   "metadata": {},
   "outputs": [],
   "source": []
  }
 ],
 "metadata": {
  "kernelspec": {
   "display_name": "Python 3",
   "language": "python",
   "name": "python3"
  },
  "language_info": {
   "codemirror_mode": {
    "name": "ipython",
    "version": 3
   },
   "file_extension": ".py",
   "mimetype": "text/x-python",
   "name": "python",
   "nbconvert_exporter": "python",
   "pygments_lexer": "ipython3",
   "version": "3.8.3"
  }
 },
 "nbformat": 4,
 "nbformat_minor": 4
}
